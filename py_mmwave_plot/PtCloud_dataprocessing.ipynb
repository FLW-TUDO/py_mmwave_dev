{
 "cells": [
  {
   "cell_type": "markdown",
   "metadata": {},
   "source": [
    "### Acquiring and processing data ###"
   ]
  },
  {
   "cell_type": "code",
   "execution_count": null,
   "metadata": {},
   "outputs": [],
   "source": [
    "import json\n",
    "import pandas as pd\n",
    "import re\n",
    "\n",
    "#File paths\n",
    "input_file = 'C:\\\\Users\\\\rohit\\\\Desktop\\\\HiWi\\Work\\\\Radar Sensor Project\\\\py_mmwave_dev\\\\py_mmwave_plot\\\\vis_node_x_mmwave_sensor_20240723_163759.txt'\n",
    "\n",
    "match = re.search(r'sensor_(\\d{8}_\\d{6})', input_file)\n",
    "if match:\n",
    "    timestamp_part = match.group(1)\n",
    "else:\n",
    "    raise ValueError(\"No timestamp found in the input file path\")\n",
    "\n",
    "output_file = f'{timestamp_part}_parsed_data.csv'\n",
    "\n",
    "\n",
    "#Initializing\n",
    "data_list = []\n",
    "\n",
    "#Read data file and parse the JSON data\n",
    "with open(input_file, 'r') as file:\n",
    "    for line in file:\n",
    "        data = json.loads(line.strip())\n",
    "        timestamp = data['timestamp']\n",
    "        numObj = data['numObj']\n",
    "        \n",
    "        # Create a row for each object\n",
    "        for i in range(numObj):\n",
    "            row = {\n",
    "                'timestamp': timestamp,\n",
    "                'range': data['range'][i],\n",
    "                'azimuth': data['azimuth'][i],\n",
    "                'elevation': data['elevation'][i],\n",
    "                'x': data['x'][i],\n",
    "                'y': data['y'][i],\n",
    "                'z': data['z'][i],\n",
    "                'v': data['v'][i],\n",
    "                'snr': data['snr'][i],\n",
    "                'rangeProfile': data['rangeProfile'],\n",
    "            }\n",
    "            data_list.append(row)\n",
    "\n",
    "#Convert the list of dictionaries to a pandas DataFrame\n",
    "df = pd.DataFrame(data_list)\n",
    "\n",
    "#Displaying the DataFrame\n",
    "print(df.head())\n",
    "\n",
    "#CSV output of DataFrame\n",
    "df.to_csv(output_file, index=False)\n",
    "\n",
    "print(df.timestamp)\n",
    "print(df.range)\n",
    "print(df.azimuth)"
   ]
  },
  {
   "cell_type": "markdown",
   "metadata": {},
   "source": [
    "### Visualizing the Radar PtCloud Data ###"
   ]
  },
  {
   "cell_type": "markdown",
   "metadata": {},
   "source": [
    "#### Interpolated Count based 2D Histogram ####"
   ]
  },
  {
   "cell_type": "code",
   "execution_count": 1,
   "metadata": {},
   "outputs": [
    {
     "ename": "NameError",
     "evalue": "name 'df' is not defined",
     "output_type": "error",
     "traceback": [
      "\u001b[1;31m---------------------------------------------------------------------------\u001b[0m",
      "\u001b[1;31mNameError\u001b[0m                                 Traceback (most recent call last)",
      "Cell \u001b[1;32mIn[1], line 5\u001b[0m\n\u001b[0;32m      2\u001b[0m \u001b[38;5;28;01mimport\u001b[39;00m \u001b[38;5;21;01mmatplotlib\u001b[39;00m\u001b[38;5;21;01m.\u001b[39;00m\u001b[38;5;21;01mpyplot\u001b[39;00m \u001b[38;5;28;01mas\u001b[39;00m \u001b[38;5;21;01mplt\u001b[39;00m\n\u001b[0;32m      3\u001b[0m \u001b[38;5;28;01mimport\u001b[39;00m \u001b[38;5;21;01mnumpy\u001b[39;00m \u001b[38;5;28;01mas\u001b[39;00m \u001b[38;5;21;01mnp\u001b[39;00m\n\u001b[1;32m----> 5\u001b[0m plt\u001b[38;5;241m.\u001b[39mhist2d(\u001b[43mdf\u001b[49m[\u001b[38;5;124m'\u001b[39m\u001b[38;5;124mazimuth\u001b[39m\u001b[38;5;124m'\u001b[39m], df[\u001b[38;5;124m'\u001b[39m\u001b[38;5;124mrange\u001b[39m\u001b[38;5;124m'\u001b[39m], bins\u001b[38;5;241m=\u001b[39m[\u001b[38;5;241m100\u001b[39m, \u001b[38;5;241m100\u001b[39m], cmap\u001b[38;5;241m=\u001b[39m\u001b[38;5;124m'\u001b[39m\u001b[38;5;124mviridis\u001b[39m\u001b[38;5;124m'\u001b[39m)\n\u001b[0;32m      7\u001b[0m plt\u001b[38;5;241m.\u001b[39mcolorbar(label\u001b[38;5;241m=\u001b[39m\u001b[38;5;124m'\u001b[39m\u001b[38;5;124mCount\u001b[39m\u001b[38;5;124m'\u001b[39m)\n\u001b[0;32m      9\u001b[0m \u001b[38;5;66;03m#Labels\u001b[39;00m\n",
      "\u001b[1;31mNameError\u001b[0m: name 'df' is not defined"
     ]
    }
   ],
   "source": [
    "import pandas as pd\n",
    "import matplotlib.pyplot as plt\n",
    "import numpy as np\n",
    "\n",
    "plt.hist2d(df['azimuth'], df['range'], bins=[100, 100], cmap='viridis')\n",
    "\n",
    "plt.colorbar(label='Count')\n",
    "\n",
    "#Labels\n",
    "plt.xlabel('Azimuth (degrees)')\n",
    "plt.ylabel('Range (meters)')\n",
    "plt.title('Range vs Azimuth 2D Histogram (Heatmap)')\n",
    "\n",
    "plt.show()"
   ]
  },
  {
   "cell_type": "markdown",
   "metadata": {},
   "source": [
    "#### Interpolated SNR-based Azimuth-Range Heatmap ####"
   ]
  },
  {
   "cell_type": "code",
   "execution_count": null,
   "metadata": {},
   "outputs": [],
   "source": [
    "import numpy as np\n",
    "import matplotlib.pyplot as plt\n",
    "import matplotlib.patches as pat\n",
    "import scipy.interpolate as spi\n",
    "import pandas as pd  \n",
    "\n",
    "\n",
    "# Parameters\n",
    "tx_azimuth_antennas = 4  \n",
    "rx_antennas = 4  \n",
    "range_bins = 256\n",
    "angle_bins = 64\n",
    "range_res = 0.1  \n",
    "range_bias = 0.0 \n",
    "\n",
    "# Calculate coordinates\n",
    "t = np.linspace(-1, 1, angle_bins)\n",
    "t = np.arcsin(t)\n",
    "r = np.linspace(0, range_bins * range_res, range_bins)\n",
    "\n",
    "range_depth = range_bins * range_res\n",
    "range_width, grid_res = range_depth / 2, 400\n",
    "\n",
    "xi = np.linspace(-range_width, range_width, grid_res)\n",
    "yi = np.linspace(0, range_depth, grid_res)\n",
    "xi, yi = np.meshgrid(xi, yi)\n",
    "\n",
    "# x and y for bins\n",
    "x = np.outer(r, np.sin(t))\n",
    "y = np.outer(r, np.cos(t))\n",
    "y = y - range_bias\n",
    "\n",
    "# Interpolation\n",
    "azimuth_radians = np.radians(df['azimuth'])\n",
    "x_points = df['range'] * np.sin(azimuth_radians)\n",
    "y_points = df['range'] * np.cos(azimuth_radians)\n",
    "values = df['snr']\n",
    "\n",
    "# Interpolate SNR values\n",
    "zi = spi.griddata((x_points, y_points), values, (xi, yi), method='linear')\n",
    "zi = np.nan_to_num(zi)  # Replace NaN values with zero\n",
    "\n",
    "# Plot\n",
    "fig = plt.figure(figsize=(10, 8))\n",
    "ax = plt.subplot(1, 1, 1)\n",
    "\n",
    "fig.tight_layout(pad=2)\n",
    "\n",
    "cm = ax.imshow(zi[::-1, ::-1], cmap=plt.cm.jet, extent=[-range_width, range_width, 0, range_depth], alpha=0.95)\n",
    "cursor = wgt.Cursor(ax, useblit=True, color='white', linewidth=1)\n",
    "\n",
    "ax.set_title('Azimuth-Range FFT Heatmap', fontsize=10)\n",
    "ax.set_xlabel('Lateral distance along [m]')\n",
    "ax.set_ylabel('Longitudinal distance along [m]')\n",
    "\n",
    "# Grid lines\n",
    "ax.plot([0, 0], [0, range_depth], color='white', linewidth=0.5, linestyle=':', zorder=1)\n",
    "ax.plot([0, -range_width], [0, range_width], color='white', linewidth=0.5, linestyle=':', zorder=1)\n",
    "ax.plot([0, +range_width], [0, range_width], color='white', linewidth=0.5, linestyle=':', zorder=1)\n",
    "\n",
    "# Range circles\n",
    "for i in range(1, int(range_depth)+1):\n",
    "    ax.add_patch(pat.Arc((0, 0), width=i*2, height=i*2, angle=90, theta1=-90, theta2=90, color='white', linewidth=0.5, linestyle=':', zorder=1))\n",
    "\n",
    "# Colorbar for SNR values\n",
    "plt.colorbar(cm, ax=ax, label='SNR')\n",
    "plt.show()"
   ]
  }
 ],
 "metadata": {
  "kernelspec": {
   "display_name": "Python 3",
   "language": "python",
   "name": "python3"
  },
  "language_info": {
   "codemirror_mode": {
    "name": "ipython",
    "version": 3
   },
   "file_extension": ".py",
   "mimetype": "text/x-python",
   "name": "python",
   "nbconvert_exporter": "python",
   "pygments_lexer": "ipython3",
   "version": "3.11.3"
  }
 },
 "nbformat": 4,
 "nbformat_minor": 2
}
